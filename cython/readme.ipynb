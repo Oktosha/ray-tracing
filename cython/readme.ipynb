{
 "cells": [
  {
   "cell_type": "markdown",
   "metadata": {},
   "source": [
    "# Ray tracing with Cython\n",
    "\n",
    "This is the usage example of the `raytracing` module.\n",
    "\n",
    "## The setup\n",
    "\n",
    "### Enviroment\n",
    "\n",
    "This example was run on Mac OS X in the conda enviroment created with the command:\n",
    "\n",
    "`conda create --name mycythonenv jupyter cython matplotlib`\n",
    "\n",
    "One can recreate it with the `spec-file.txt` from this folder:\n",
    "\n",
    "`conda create --name myenv --file spec-file.txt`\n",
    "\n",
    "### Building the cython module\n",
    "\n",
    "As Cython needs to be compiled, we need to build the module first."
   ]
  },
  {
   "cell_type": "code",
   "execution_count": 1,
   "metadata": {},
   "outputs": [
    {
     "name": "stdout",
     "output_type": "stream",
     "text": [
      "running build_ext\r\n"
     ]
    }
   ],
   "source": [
    "! python setup.py build_ext --inplace"
   ]
  },
  {
   "cell_type": "markdown",
   "metadata": {},
   "source": [
    "### Importing the cython module\n",
    "\n",
    "We can import the compiled module as usual."
   ]
  },
  {
   "cell_type": "code",
   "execution_count": 2,
   "metadata": {},
   "outputs": [],
   "source": [
    "import raytracing"
   ]
  },
  {
   "cell_type": "markdown",
   "metadata": {},
   "source": [
    "## Usage\n",
    "\n",
    "The main functing of the module is the render function. Call for the documentation:"
   ]
  },
  {
   "cell_type": "code",
   "execution_count": 3,
   "metadata": {},
   "outputs": [],
   "source": [
    "raytracing.render?"
   ]
  },
  {
   "cell_type": "markdown",
   "metadata": {},
   "source": [
    "The example below renders and shows an example image."
   ]
  },
  {
   "cell_type": "code",
   "execution_count": 4,
   "metadata": {},
   "outputs": [],
   "source": [
    "%matplotlib inline"
   ]
  },
  {
   "cell_type": "code",
   "execution_count": 5,
   "metadata": {},
   "outputs": [
    {
     "data": {
      "text/plain": [
       "<matplotlib.image.AxesImage at 0x1142eb450>"
      ]
     },
     "execution_count": 5,
     "metadata": {},
     "output_type": "execute_result"
    },
    {
     "data": {
      "image/png": "[encoded data removed]",
      "text/plain": [
       "<Figure size 432x288 with 1 Axes>"
      ]
     },
     "metadata": {
      "needs_background": "light"
     },
     "output_type": "display_data"
    }
   ],
   "source": [
    "import matplotlib.pyplot as plt\n",
    "image = raytracing.render(h=100, w=200)\n",
    "plt.imshow(image)"
   ]
  },
  {
   "cell_type": "markdown",
   "metadata": {},
   "source": [
    "## Side notes\n",
    "\n",
    "### Module reloading\n",
    "\n",
    "One can't just reload the cython module without restarting the kernel.\n",
    "\n",
    "See https://stackoverflow.com/questions/55056563/reload-module-with-pyximport "
   ]
  },
  {
   "cell_type": "markdown",
   "metadata": {},
   "source": [
    "__Solution #1__ -> won't work when I'll need to add external c++ library because pyximport [doesn't support it](http://docs.cython.org/en/latest/src/userguide/source_files_and_compilation.html#compiling-with-pyximport)."
   ]
  },
  {
   "cell_type": "code",
   "execution_count": null,
   "metadata": {},
   "outputs": [],
   "source": [
    "import pyximport\n",
    "import importlib\n",
    "pyximport.install(reload_support=True)\n",
    "import raytracing"
   ]
  },
  {
   "cell_type": "code",
   "execution_count": null,
   "metadata": {},
   "outputs": [],
   "source": [
    "importlib.reload(raytracing)\n",
    "import raytracing"
   ]
  }
 ],
 "metadata": {
  "kernelspec": {
   "display_name": "Python 3",
   "language": "python",
   "name": "python3"
  },
  "language_info": {
   "codemirror_mode": {
    "name": "ipython",
    "version": 3
   },
   "file_extension": ".py",
   "mimetype": "text/x-python",
   "name": "python",
   "nbconvert_exporter": "python",
   "pygments_lexer": "ipython3",
   "version": "3.7.5"
  }
 },
 "nbformat": 4,
 "nbformat_minor": 2
}
