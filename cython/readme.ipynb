{
 "cells": [
  {
   "cell_type": "markdown",
   "metadata": {},
   "source": [
    "# Ray tracing with Cython\n",
    "\n",
    "This is the usage example of the `raytracing` module.\n",
    "\n",
    "## The setup\n",
    "\n",
    "### Enviroment\n",
    "\n",
    "This example was run on Mac OS X in the conda enviroment created with the command:\n",
    "\n",
    "`conda create --name mycythonenv jupyter cython`\n",
    "\n",
    "One can recreate it with the `spec-file.txt` from this folder:\n",
    "\n",
    "`conda create --name myenv --file spec-file.txt`\n",
    "\n",
    "### Building the cython module\n",
    "\n",
    "As Cython needs to be compiled, we need to build the module first."
   ]
  },
  {
   "cell_type": "code",
   "execution_count": 1,
   "metadata": {},
   "outputs": [
    {
     "name": "stdout",
     "output_type": "stream",
     "text": [
      "Compiling raytracing.pyx because it changed.\n",
      "[1/1] Cythonizing raytracing.pyx\n",
      "running build_ext\n",
      "building 'raytracing' extension\n",
      "/usr/local/bin/gcc-9 -Wno-unused-result -Wsign-compare -Wunreachable-code -DNDEBUG -g -fwrapv -O3 -Wall -Wstrict-prototypes -I/Users/kolodzey/miniconda3/envs/cython-2/include -arch x86_64 -I/Users/kolodzey/miniconda3/envs/cython-2/include -arch x86_64 -I/Users/kolodzey/miniconda3/envs/cython-2/include/python3.7m -c raytracing.c -o build/temp.macosx-10.7-x86_64-3.7/raytracing.o\n",
      "/usr/local/bin/gcc-9 -bundle -undefined dynamic_lookup -L/Users/kolodzey/miniconda3/envs/cython-2/lib -arch x86_64 -L/Users/kolodzey/miniconda3/envs/cython-2/lib -arch x86_64 -arch x86_64 build/temp.macosx-10.7-x86_64-3.7/raytracing.o -o /Users/kolodzey/code/ray-tracing/cython/raytracing.cpython-37m-darwin.so\n"
     ]
    }
   ],
   "source": [
    "! python setup.py build_ext --inplace"
   ]
  },
  {
   "cell_type": "markdown",
   "metadata": {},
   "source": [
    "### Importing the cython module\n",
    "\n",
    "We can import the compiled module as usual."
   ]
  },
  {
   "cell_type": "code",
   "execution_count": 2,
   "metadata": {},
   "outputs": [],
   "source": [
    "import raytracing"
   ]
  },
  {
   "cell_type": "markdown",
   "metadata": {},
   "source": [
    "## Usage"
   ]
  },
  {
   "cell_type": "code",
   "execution_count": 3,
   "metadata": {},
   "outputs": [
    {
     "name": "stdout",
     "output_type": "stream",
     "text": [
      "Hello, World!\n"
     ]
    }
   ],
   "source": [
    "raytracing.print_hello_to(\"World\")"
   ]
  },
  {
   "cell_type": "markdown",
   "metadata": {},
   "source": [
    "## Side notes\n",
    "\n",
    "### Module reloading\n",
    "\n",
    "One can't just reload the cython module without restarting the kernel.\n",
    "\n",
    "See https://stackoverflow.com/questions/55056563/reload-module-with-pyximport "
   ]
  },
  {
   "cell_type": "markdown",
   "metadata": {},
   "source": [
    "__Solution #1__ -> won't work when I'll need to add external c++ library because pyximport [doesn't support it](http://docs.cython.org/en/latest/src/userguide/source_files_and_compilation.html#compiling-with-pyximport)."
   ]
  },
  {
   "cell_type": "code",
   "execution_count": null,
   "metadata": {},
   "outputs": [],
   "source": [
    "import pyximport\n",
    "import importlib\n",
    "pyximport.install(reload_support=True)\n",
    "import raytracing"
   ]
  },
  {
   "cell_type": "code",
   "execution_count": null,
   "metadata": {},
   "outputs": [],
   "source": [
    "importlib.reload(raytracing)\n",
    "import raytracing"
   ]
  }
 ],
 "metadata": {
  "kernelspec": {
   "display_name": "Python 3",
   "language": "python",
   "name": "python3"
  },
  "language_info": {
   "codemirror_mode": {
    "name": "ipython",
    "version": 3
   },
   "file_extension": ".py",
   "mimetype": "text/x-python",
   "name": "python",
   "nbconvert_exporter": "python",
   "pygments_lexer": "ipython3",
   "version": "3.7.5"
  }
 },
 "nbformat": 4,
 "nbformat_minor": 2
}
