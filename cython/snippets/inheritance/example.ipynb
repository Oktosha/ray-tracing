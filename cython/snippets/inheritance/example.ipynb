{
 "cells": [
  {
   "cell_type": "code",
   "execution_count": 3,
   "metadata": {},
   "outputs": [
    {
     "name": "stdout",
     "output_type": "stream",
     "text": [
      "Compiling example.pyx because it changed.\n",
      "[1/1] Cythonizing example.pyx\n",
      "running build_ext\n",
      "building 'example' extension\n",
      "/usr/local/bin/gcc-9 -Wno-unused-result -Wsign-compare -Wunreachable-code -DNDEBUG -g -fwrapv -O3 -Wall -Wstrict-prototypes -I/Users/kolodzey/miniconda3/envs/cython-2/include -arch x86_64 -I/Users/kolodzey/miniconda3/envs/cython-2/include -arch x86_64 -I/Users/kolodzey/miniconda3/envs/cython-2/include/python3.7m -c example.cpp -o build/temp.macosx-10.7-x86_64-3.7/example.o\n",
      "\u001b[01m\u001b[Kcc1plus:\u001b[m\u001b[K \u001b[01;35m\u001b[Kwarning: \u001b[m\u001b[Kcommand line option '\u001b[01m\u001b[K-Wstrict-prototypes\u001b[m\u001b[K' is valid for C/ObjC but not for C++\n",
      "/usr/local/bin/g++-9 -bundle -undefined dynamic_lookup -L/Users/kolodzey/miniconda3/envs/cython-2/lib -arch x86_64 -L/Users/kolodzey/miniconda3/envs/cython-2/lib -arch x86_64 -arch x86_64 build/temp.macosx-10.7-x86_64-3.7/example.o -o /Users/kolodzey/code/ray-tracing/cython/snippets/inheritance/example.cpython-37m-darwin.so\n"
     ]
    }
   ],
   "source": [
    "! python setup.py build_ext --inplace"
   ]
  },
  {
   "cell_type": "code",
   "execution_count": 4,
   "metadata": {},
   "outputs": [],
   "source": [
    "import example"
   ]
  },
  {
   "cell_type": "code",
   "execution_count": 5,
   "metadata": {},
   "outputs": [
    {
     "name": "stdout",
     "output_type": "stream",
     "text": [
      "42\n"
     ]
    }
   ],
   "source": [
    "print(example.do_computation_py())"
   ]
  }
 ],
 "metadata": {
  "kernelspec": {
   "display_name": "Python 3",
   "language": "python",
   "name": "python3"
  },
  "language_info": {
   "codemirror_mode": {
    "name": "ipython",
    "version": 3
   },
   "file_extension": ".py",
   "mimetype": "text/x-python",
   "name": "python",
   "nbconvert_exporter": "python",
   "pygments_lexer": "ipython3",
   "version": "3.7.5"
  }
 },
 "nbformat": 4,
 "nbformat_minor": 2
}
