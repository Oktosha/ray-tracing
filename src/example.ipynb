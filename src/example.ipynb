{
 "cells": [
  {
   "cell_type": "code",
   "execution_count": 2,
   "metadata": {},
   "outputs": [
    {
     "name": "stdout",
     "output_type": "stream",
     "text": [
      "Compiling raytracing.pyx because it changed.\n",
      "[1/1] Cythonizing raytracing.pyx\n",
      "running build_ext\n",
      "building 'raytracing' extension\n",
      "creating build\n",
      "creating build/temp.macosx-10.7-x86_64-3.7\n",
      "/usr/local/bin/gcc-9 -Wno-unused-result -Wsign-compare -Wunreachable-code -DNDEBUG -g -fwrapv -O3 -Wall -Wstrict-prototypes -I/Users/kolodzey/miniconda3/envs/cython-2/include -arch x86_64 -I/Users/kolodzey/miniconda3/envs/cython-2/include -arch x86_64 -I/Users/kolodzey/miniconda3/envs/cython-2/include/python3.7m -c raytracing.cpp -o build/temp.macosx-10.7-x86_64-3.7/raytracing.o\n",
      "\u001b[01m\u001b[Kcc1plus:\u001b[m\u001b[K \u001b[01;35m\u001b[Kwarning: \u001b[m\u001b[Kcommand line option '\u001b[01m\u001b[K-Wstrict-prototypes\u001b[m\u001b[K' is valid for C/ObjC but not for C++\n",
      "In file included from \u001b[01m\u001b[Khitable.h:5\u001b[m\u001b[K,\n",
      "                 from \u001b[01m\u001b[Kraytracing.cpp:636\u001b[m\u001b[K:\n",
      "\u001b[01m\u001b[Kvec3.h:125:6:\u001b[m\u001b[K \u001b[01;31m\u001b[Kerror: \u001b[m\u001b[K'\u001b[01m\u001b[Koptional\u001b[m\u001b[K' in namespace '\u001b[01m\u001b[Kstd\u001b[m\u001b[K' does not name a template type\n",
      "  125 | std::\u001b[01;31m\u001b[Koptional\u001b[m\u001b[K<Vec3> refract(const Vec3& v, const Vec3& n, float ni_over_nt) {\n",
      "      |      \u001b[01;31m\u001b[K^~~~~~~~\u001b[m\u001b[K\n",
      "\u001b[01m\u001b[Kvec3.h:125:1:\u001b[m\u001b[K \u001b[01;36m\u001b[Knote: \u001b[m\u001b[K'\u001b[01m\u001b[Kstd::optional\u001b[m\u001b[K' is only available from C++17 onwards\n",
      "  125 | \u001b[01;36m\u001b[Kstd\u001b[m\u001b[K::optional<Vec3> refract(const Vec3& v, const Vec3& n, float ni_over_nt) {\n",
      "      | \u001b[01;36m\u001b[K^~~\u001b[m\u001b[K\n",
      "In file included from \u001b[01m\u001b[Khitable.h:7\u001b[m\u001b[K,\n",
      "                 from \u001b[01m\u001b[Kraytracing.cpp:636\u001b[m\u001b[K:\n",
      "\u001b[01m\u001b[Kmaterial.h:16:18:\u001b[m\u001b[K \u001b[01;31m\u001b[Kerror: \u001b[m\u001b[K'\u001b[01m\u001b[Koptional\u001b[m\u001b[K' in namespace '\u001b[01m\u001b[Kstd\u001b[m\u001b[K' does not name a template type\n",
      "   16 |     virtual std::\u001b[01;31m\u001b[Koptional\u001b[m\u001b[K<ScatterRecord>\n",
      "      |                  \u001b[01;31m\u001b[K^~~~~~~~\u001b[m\u001b[K\n",
      "\u001b[01m\u001b[Kmaterial.h:16:13:\u001b[m\u001b[K \u001b[01;36m\u001b[Knote: \u001b[m\u001b[K'\u001b[01m\u001b[Kstd::optional\u001b[m\u001b[K' is only available from C++17 onwards\n",
      "   16 |     virtual \u001b[01;36m\u001b[Kstd\u001b[m\u001b[K::optional<ScatterRecord>\n",
      "      |             \u001b[01;36m\u001b[K^~~\u001b[m\u001b[K\n",
      "\u001b[01m\u001b[Kmaterial.h:26:10:\u001b[m\u001b[K \u001b[01;31m\u001b[Kerror: \u001b[m\u001b[K'\u001b[01m\u001b[Koptional\u001b[m\u001b[K' in namespace '\u001b[01m\u001b[Kstd\u001b[m\u001b[K' does not name a template type\n",
      "   26 |     std::\u001b[01;31m\u001b[Koptional\u001b[m\u001b[K<ScatterRecord>\n",
      "      |          \u001b[01;31m\u001b[K^~~~~~~~\u001b[m\u001b[K\n",
      "\u001b[01m\u001b[Kmaterial.h:26:5:\u001b[m\u001b[K \u001b[01;36m\u001b[Knote: \u001b[m\u001b[K'\u001b[01m\u001b[Kstd::optional\u001b[m\u001b[K' is only available from C++17 onwards\n",
      "   26 |     \u001b[01;36m\u001b[Kstd\u001b[m\u001b[K::optional<ScatterRecord>\n",
      "      |     \u001b[01;36m\u001b[K^~~\u001b[m\u001b[K\n",
      "\u001b[01m\u001b[Kmaterial.h:42:10:\u001b[m\u001b[K \u001b[01;31m\u001b[Kerror: \u001b[m\u001b[K'\u001b[01m\u001b[Koptional\u001b[m\u001b[K' in namespace '\u001b[01m\u001b[Kstd\u001b[m\u001b[K' does not name a template type\n",
      "   42 |     std::\u001b[01;31m\u001b[Koptional\u001b[m\u001b[K<ScatterRecord>\n",
      "      |          \u001b[01;31m\u001b[K^~~~~~~~\u001b[m\u001b[K\n",
      "\u001b[01m\u001b[Kmaterial.h:42:5:\u001b[m\u001b[K \u001b[01;36m\u001b[Knote: \u001b[m\u001b[K'\u001b[01m\u001b[Kstd::optional\u001b[m\u001b[K' is only available from C++17 onwards\n",
      "   42 |     \u001b[01;36m\u001b[Kstd\u001b[m\u001b[K::optional<ScatterRecord>\n",
      "      |     \u001b[01;36m\u001b[K^~~\u001b[m\u001b[K\n",
      "\u001b[01m\u001b[Kmaterial.h:70:10:\u001b[m\u001b[K \u001b[01;31m\u001b[Kerror: \u001b[m\u001b[K'\u001b[01m\u001b[Koptional\u001b[m\u001b[K' in namespace '\u001b[01m\u001b[Kstd\u001b[m\u001b[K' does not name a template type\n",
      "   70 |     std::\u001b[01;31m\u001b[Koptional\u001b[m\u001b[K<ScatterRecord>\n",
      "      |          \u001b[01;31m\u001b[K^~~~~~~~\u001b[m\u001b[K\n",
      "\u001b[01m\u001b[Kmaterial.h:70:5:\u001b[m\u001b[K \u001b[01;36m\u001b[Knote: \u001b[m\u001b[K'\u001b[01m\u001b[Kstd::optional\u001b[m\u001b[K' is only available from C++17 onwards\n",
      "   70 |     \u001b[01;36m\u001b[Kstd\u001b[m\u001b[K::optional<ScatterRecord>\n",
      "      |     \u001b[01;36m\u001b[K^~~\u001b[m\u001b[K\n",
      "In file included from \u001b[01m\u001b[Kraytracing.cpp:636\u001b[m\u001b[K:\n",
      "\u001b[01m\u001b[Khitable.h:18:18:\u001b[m\u001b[K \u001b[01;31m\u001b[Kerror: \u001b[m\u001b[K'\u001b[01m\u001b[Koptional\u001b[m\u001b[K' in namespace '\u001b[01m\u001b[Kstd\u001b[m\u001b[K' does not name a template type\n",
      "   18 |     virtual std::\u001b[01;31m\u001b[Koptional\u001b[m\u001b[K<HitRecord>\n",
      "      |                  \u001b[01;31m\u001b[K^~~~~~~~\u001b[m\u001b[K\n",
      "\u001b[01m\u001b[Khitable.h:18:13:\u001b[m\u001b[K \u001b[01;36m\u001b[Knote: \u001b[m\u001b[K'\u001b[01m\u001b[Kstd::optional\u001b[m\u001b[K' is only available from C++17 onwards\n",
      "   18 |     virtual \u001b[01;36m\u001b[Kstd\u001b[m\u001b[K::optional<HitRecord>\n",
      "      |             \u001b[01;36m\u001b[K^~~\u001b[m\u001b[K\n",
      "In file included from \u001b[01m\u001b[Kraytracing.cpp:637\u001b[m\u001b[K:\n",
      "\u001b[01m\u001b[Ksphere.h:18:10:\u001b[m\u001b[K \u001b[01;31m\u001b[Kerror: \u001b[m\u001b[K'\u001b[01m\u001b[Koptional\u001b[m\u001b[K' in namespace '\u001b[01m\u001b[Kstd\u001b[m\u001b[K' does not name a template type\n",
      "   18 |     std::\u001b[01;31m\u001b[Koptional\u001b[m\u001b[K<HitRecord>hit(\n",
      "      |          \u001b[01;31m\u001b[K^~~~~~~~\u001b[m\u001b[K\n",
      "\u001b[01m\u001b[Ksphere.h:18:5:\u001b[m\u001b[K \u001b[01;36m\u001b[Knote: \u001b[m\u001b[K'\u001b[01m\u001b[Kstd::optional\u001b[m\u001b[K' is only available from C++17 onwards\n",
      "   18 |     \u001b[01;36m\u001b[Kstd\u001b[m\u001b[K::optional<HitRecord>hit(\n",
      "      |     \u001b[01;36m\u001b[K^~~\u001b[m\u001b[K\n",
      "\u001b[01m\u001b[Ksphere.h:\u001b[m\u001b[K In constructor '\u001b[01m\u001b[KSphere::Sphere()\u001b[m\u001b[K':\n",
      "\u001b[01m\u001b[Ksphere.h:16:5:\u001b[m\u001b[K \u001b[01;31m\u001b[Kerror: \u001b[m\u001b[K'\u001b[01m\u001b[Kmake_unique\u001b[m\u001b[K' was not declared in this scope; did you mean '\u001b[01m\u001b[Kstd::make_unique\u001b[m\u001b[K'?\n",
      "   16 |     \u001b[01;31m\u001b[Kmake_unique\u001b[m\u001b[K<Lambertian>(Vec3(0.4, 0.2, 0.1))) {}\n",
      "      |     \u001b[01;31m\u001b[K^~~~~~~~~~~\u001b[m\u001b[K\n",
      "      |     \u001b[32m\u001b[Kstd::make_unique\u001b[m\u001b[K\n",
      "In file included from \u001b[01m\u001b[K/usr/local/Cellar/gcc/9.2.0/include/c++/9.2.0/memory:80\u001b[m\u001b[K,\n",
      "                 from \u001b[01m\u001b[Kraytracing.cpp:634\u001b[m\u001b[K:\n",
      "\u001b[01m\u001b[K/usr/local/Cellar/gcc/9.2.0/include/c++/9.2.0/bits/unique_ptr.h:860:5:\u001b[m\u001b[K \u001b[01;36m\u001b[Knote: \u001b[m\u001b[K'\u001b[01m\u001b[Kstd::make_unique\u001b[m\u001b[K' declared here\n",
      "  860 |     \u001b[01;36m\u001b[Kmake_unique\u001b[m\u001b[K(_Args&&...) = delete;\n",
      "      |     \u001b[01;36m\u001b[K^~~~~~~~~~~\u001b[m\u001b[K\n",
      "In file included from \u001b[01m\u001b[Kraytracing.cpp:637\u001b[m\u001b[K:\n",
      "\u001b[01m\u001b[Ksphere.h:16:27:\u001b[m\u001b[K \u001b[01;31m\u001b[Kerror: \u001b[m\u001b[Kexpected primary-expression before '\u001b[01m\u001b[K>\u001b[m\u001b[K' token\n",
      "   16 |     make_unique<Lambertian\u001b[01;31m\u001b[K>\u001b[m\u001b[K(Vec3(0.4, 0.2, 0.1))) {}\n",
      "      |                           \u001b[01;31m\u001b[K^\u001b[m\u001b[K\n",
      "\u001b[01m\u001b[Ksphere.h:\u001b[m\u001b[K At global scope:\n",
      "\u001b[01m\u001b[Ksphere.h:26:6:\u001b[m\u001b[K \u001b[01;31m\u001b[Kerror: \u001b[m\u001b[K'\u001b[01m\u001b[Koptional\u001b[m\u001b[K' in namespace '\u001b[01m\u001b[Kstd\u001b[m\u001b[K' does not name a template type\n",
      "   26 | std::\u001b[01;31m\u001b[Koptional\u001b[m\u001b[K<HitRecord>\n",
      "      |      \u001b[01;31m\u001b[K^~~~~~~~\u001b[m\u001b[K\n",
      "\u001b[01m\u001b[Ksphere.h:26:1:\u001b[m\u001b[K \u001b[01;36m\u001b[Knote: \u001b[m\u001b[K'\u001b[01m\u001b[Kstd::optional\u001b[m\u001b[K' is only available from C++17 onwards\n",
      "   26 | \u001b[01;36m\u001b[Kstd\u001b[m\u001b[K::optional<HitRecord>\n",
      "      | \u001b[01;36m\u001b[K^~~\u001b[m\u001b[K\n",
      "In file included from \u001b[01m\u001b[Kraytracing.cpp:640\u001b[m\u001b[K:\n",
      "\u001b[01m\u001b[Krender.h:\u001b[m\u001b[K In function '\u001b[01m\u001b[KVec3 Color(const Ray&, Hitable*, int)\u001b[m\u001b[K':\n",
      "\u001b[01m\u001b[Krender.h:14:31:\u001b[m\u001b[K \u001b[01;31m\u001b[Kerror: \u001b[m\u001b[K'\u001b[01m\u001b[Kclass Hitable\u001b[m\u001b[K' has no member named '\u001b[01m\u001b[Khit\u001b[m\u001b[K'\n",
      "   14 |   if(auto hit_record = world->\u001b[01;31m\u001b[Khit\u001b[m\u001b[K(r, 0.001, std::numeric_limits<float>::max())) {\n",
      "      |                               \u001b[01;31m\u001b[K^~~\u001b[m\u001b[K\n",
      "\u001b[01m\u001b[Krender.h:16:9:\u001b[m\u001b[K \u001b[01;35m\u001b[Kwarning: \u001b[m\u001b[Kinit-statement in selection statements only available with '\u001b[01m\u001b[K-std=c++17\u001b[m\u001b[K' or '\u001b[01m\u001b[K-std=gnu++17\u001b[m\u001b[K'\n",
      "   16 |     if (\u001b[01;35m\u001b[Kauto\u001b[m\u001b[K scatter_record =\n",
      "      |         \u001b[01;35m\u001b[K^~~~\u001b[m\u001b[K\n",
      "error: command '/usr/local/bin/gcc-9' failed with exit status 1\n"
     ]
    }
   ],
   "source": [
    "! python setup.py build_ext --inplace"
   ]
  },
  {
   "cell_type": "code",
   "execution_count": 3,
   "metadata": {},
   "outputs": [],
   "source": [
    "import raytracing"
   ]
  },
  {
   "cell_type": "code",
   "execution_count": 4,
   "metadata": {},
   "outputs": [],
   "source": [
    "%matplotlib inline"
   ]
  },
  {
   "cell_type": "code",
   "execution_count": 5,
   "metadata": {},
   "outputs": [
    {
     "data": {
      "text/plain": [
       "<matplotlib.image.AxesImage at 0x117a61650>"
      ]
     },
     "execution_count": 5,
     "metadata": {},
     "output_type": "execute_result"
    },
    {
     "data": {
      "image/png": "[encoded data removed]",
      "text/plain": [
       "<Figure size 432x288 with 1 Axes>"
      ]
     },
     "metadata": {
      "needs_background": "light"
     },
     "output_type": "display_data"
    }
   ],
   "source": [
    "import matplotlib.pyplot as plt\n",
    "image = raytracing.render()\n",
    "plt.imshow(image)"
   ]
  }
 ],
 "metadata": {
  "kernelspec": {
   "display_name": "Python 3",
   "language": "python",
   "name": "python3"
  },
  "language_info": {
   "codemirror_mode": {
    "name": "ipython",
    "version": 3
   },
   "file_extension": ".py",
   "mimetype": "text/x-python",
   "name": "python",
   "nbconvert_exporter": "python",
   "pygments_lexer": "ipython3",
   "version": "3.7.5"
  }
 },
 "nbformat": 4,
 "nbformat_minor": 2
}
