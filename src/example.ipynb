{
 "cells": [
  {
   "cell_type": "markdown",
   "metadata": {},
   "source": [
    "# Ray tracing with Cython\n",
    "\n",
    "This is the example usage of the `raytracing` module.\n",
    "\n",
    "## The setup\n",
    "\n",
    "### Enviroment\n",
    "\n",
    "This example was run on Mac OS X in the conda enviroment created with the command:\n",
    "\n",
    "`conda create --name mycythonenv jupyter cython matplotlib`\n",
    "\n",
    "### Building the cython module\n",
    "\n",
    "As Cython needs to be compiled, we need to build the module first."
   ]
  },
  {
   "cell_type": "code",
   "execution_count": 1,
   "metadata": {},
   "outputs": [
    {
     "name": "stdout",
     "output_type": "stream",
     "text": [
      "Compiling raytracing.pyx because it changed.\n",
      "[1/1] Cythonizing raytracing.pyx\n",
      "running build_ext\n",
      "building 'raytracing' extension\n",
      "/usr/local/bin/gcc-9 -Wno-unused-result -Wsign-compare -Wunreachable-code -DNDEBUG -g -fwrapv -O3 -Wall -Wstrict-prototypes -I/Users/kolodzey/miniconda3/envs/cython-2/include -I/Users/kolodzey/miniconda3/envs/cython-2/include -I/Users/kolodzey/miniconda3/envs/cython-2/include/python3.7m -c raytracing.cpp -o build/temp.macosx-10.7-x86_64-3.7/raytracing.o -Wno-unused-result -Wsign-compare -Wunreachable-code -DNDEBUG -g -fwrapv -O3 -Wall -Wstrict-prototypes -I/Users/kolodzey/miniconda3/envs/cython-2/include -arch x86_64 -I/Users/kolodzey/miniconda3/envs/cython-2/include -arch x86_64 --std=c++17\n",
      "\u001b[01m\u001b[Kcc1plus:\u001b[m\u001b[K \u001b[01;35m\u001b[Kwarning: \u001b[m\u001b[Kcommand line option '\u001b[01m\u001b[K-Wstrict-prototypes\u001b[m\u001b[K' is valid for C/ObjC but not for C++\n",
      "/usr/local/bin/g++-9 -bundle -undefined dynamic_lookup -L/Users/kolodzey/miniconda3/envs/cython-2/lib -arch x86_64 -L/Users/kolodzey/miniconda3/envs/cython-2/lib -arch x86_64 -arch x86_64 build/temp.macosx-10.7-x86_64-3.7/raytracing.o -o /Users/kolodzey/code/ray-tracing/src/raytracing.cpython-37m-darwin.so\n"
     ]
    }
   ],
   "source": [
    "! python setup.py build_ext --inplace"
   ]
  },
  {
   "cell_type": "markdown",
   "metadata": {},
   "source": [
    "### Importing the cython module\n",
    "\n",
    "We can import the compiled module as usual."
   ]
  },
  {
   "cell_type": "code",
   "execution_count": 2,
   "metadata": {},
   "outputs": [],
   "source": [
    "import raytracing"
   ]
  },
  {
   "cell_type": "code",
   "execution_count": 3,
   "metadata": {},
   "outputs": [],
   "source": [
    "%matplotlib inline"
   ]
  },
  {
   "cell_type": "code",
   "execution_count": 4,
   "metadata": {},
   "outputs": [
    {
     "data": {
      "text/plain": [
       "<matplotlib.image.AxesImage at 0x11eb40990>"
      ]
     },
     "execution_count": 4,
     "metadata": {},
     "output_type": "execute_result"
    },
    {
     "data": {
      "image/png": "[encoded data removed]",
      "text/plain": [
       "<Figure size 432x288 with 1 Axes>"
      ]
     },
     "metadata": {
      "needs_background": "light"
     },
     "output_type": "display_data"
    }
   ],
   "source": [
    "import matplotlib.pyplot as plt\n",
    "image = raytracing.render()\n",
    "plt.imshow(image)"
   ]
  }
 ],
 "metadata": {
  "kernelspec": {
   "display_name": "Python 3",
   "language": "python",
   "name": "python3"
  },
  "language_info": {
   "codemirror_mode": {
    "name": "ipython",
    "version": 3
   },
   "file_extension": ".py",
   "mimetype": "text/x-python",
   "name": "python",
   "nbconvert_exporter": "python",
   "pygments_lexer": "ipython3",
   "version": "3.7.5"
  }
 },
 "nbformat": 4,
 "nbformat_minor": 2
}
